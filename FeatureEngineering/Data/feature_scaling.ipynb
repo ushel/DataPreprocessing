{
 "cells": [
  {
   "cell_type": "markdown",
   "id": "ea78a212",
   "metadata": {},
   "source": [
    "Why feature Scaling:-\n",
    "\n",
    "Features - Height, Weight predict BMI\n",
    "\n",
    "Weight and Height are my independent features and BMI are my dependent features.\n",
    "\n",
    "every features values have 2 things\n",
    "\n",
    "1. magnitude\n",
    "\n",
    "2. Units\n",
    "--------------------------------------------------\n",
    "Height = 180cm\n",
    "\n",
    "magnitude - values 180\n",
    "\n",
    "units - cm\n",
    "---------------------------------------------------\n",
    "Wight =  78kg\n",
    "\n",
    "magnitude - value - 78\n",
    "\n",
    "unit - kg\n",
    "----------------------------------------------------\n",
    "\n",
    "KNN works on ecludien distance... hence if we consider magnitude of weight and height, then the scale difference will be huge, hence we need \n",
    "\n",
    "to scale down this values in such a way that each type of feature will perform some type of scaling technique.\n",
    "\n",
    "\n",
    "scaling happens with respect to specific features only eg scaling of height between 0 to 1.\n",
    "\n",
    "Algorithms\n",
    "\n",
    "1. Linear Regression - coefficient of linear regression is found out with the help of gradient descent.Convergence of gradient descent\n",
    "\n",
    "will happen quickly.\n",
    "\n",
    "What is gradient - represents the direction and rate of change of a function. \n",
    "\n",
    "The gradient is the vector of partial derivatives of a function with respect to its input variables. In simpler terms, it's the slope of the \n",
    "\n",
    "function at a specific point.\n",
    "\n",
    "Some algorithms such as Kmeans KNN or algorithmns that uses euclidean distance, will use gradient descent and hence need to feature scaling.\n",
    "\n",
    "\n"
   ]
  },
  {
   "cell_type": "code",
   "execution_count": null,
   "id": "a1f91845",
   "metadata": {
    "vscode": {
     "languageId": "plaintext"
    }
   },
   "outputs": [],
   "source": [
    "Algorithms where you dont have to use Feature scaling\n",
    "Ensamble techniques.\n",
    "\n",
    "\n",
    "1. Decision Trees\n",
    "2. Random Forest\n",
    "3. XGBoost\n",
    "\n",
    "Decision tree will just be creating trees based on the features. \n",
    "\n",
    "So if you scale down this value its not going to affect the no of braches as no of branches will almost be same.wheather you do scaling or not."
   ]
  },
  {
   "cell_type": "markdown",
   "id": "1053c9c3",
   "metadata": {},
   "source": []
  },
  {
   "cell_type": "markdown",
   "id": "88a80105",
   "metadata": {},
   "source": []
  },
  {
   "cell_type": "markdown",
   "id": "26b476f2",
   "metadata": {},
   "source": []
  }
 ],
 "metadata": {
  "language_info": {
   "name": "python"
  }
 },
 "nbformat": 4,
 "nbformat_minor": 5
}
