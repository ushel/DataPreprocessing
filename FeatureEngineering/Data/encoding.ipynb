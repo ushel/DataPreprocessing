{
 "cells": [
  {
   "cell_type": "markdown",
   "id": "aa96ee5a",
   "metadata": {},
   "source": [
    "Types of Encoding \n",
    "\n",
    "Categorical Variables:- \n",
    "\n",
    "1. Nominal Encoding.\n",
    "\n",
    "2. Ordinal Encoding.\n",
    "\n",
    "1. Nominal :- Features where we dont worry about arrangement of categories. eg - Gender:- Male, Female  state:- Maharashtra, karnataka. \n",
    "\n",
    "DOnt have to worry about ordering or rank of variables.\n",
    "\n",
    "2. Ordinal :- We have to worry about ranks. Predict Salary of person. Degrees: -BE BCOM PHD ME here we will arrange depending upon salary.\n",
    "\n",
    "Rank PHD - 1, ME - 2, BE - 3 BCOM - 4\n",
    "\n"
   ]
  },
  {
   "cell_type": "markdown",
   "id": "8324a5be",
   "metadata": {},
   "source": [
    "Nominal Encoding Categories\n",
    "\n",
    "1. One Hot Encoding\n",
    "\n",
    "2. One Hot encoding with many Categorical variables.\n",
    "\n",
    "3. Mean Encoding\n"
   ]
  },
  {
   "cell_type": "markdown",
   "id": "e39c1ac2",
   "metadata": {},
   "source": [
    "Ordinal Encoding Categories\n",
    "\n",
    "1. Label Encoding.\n",
    "\n",
    "2. Target Guided Ordinal Encoding."
   ]
  },
  {
   "cell_type": "markdown",
   "id": "5186b179",
   "metadata": {},
   "source": [
    "1. One Hot Encoding :- Applied to Nominal Categorical Variables.\n",
    "\n",
    "Country :- Germany , France , Spain.   \n",
    "\n",
    "3 Columns created\n",
    "\n",
    "                Germany     France      Spain\n",
    "    \n",
    "    Germany       1            0           0\n",
    "\n",
    "    France        0            1           0\n",
    "\n",
    "    Spain         0            0           1\n",
    "\n",
    "\n",
    "\n",
    "Dummy variable trap :- The above columns are called as dummy variables. \n",
    "\n",
    "Here germany 1 means  we are considering germany, france 1 means we are considering france\n",
    "\n",
    "if both germany and france 0 means we are talking about spain, hence we can delete spain column. This is called as dummy variabe trap\n",
    "\n",
    "so consider I have 5 categories then total number of columns will be 5 - 1 = 4. n columns then total columns avoiding dummy variable trap\n",
    "\n",
    "will be n - 1.\n",
    "\n",
    "\n",
    "Consider Pincode columns.\n",
    "\n",
    "suppose i have 560011 , 560012, 560013, 560014, ........, 5600100\n",
    "\n",
    "so convert this pincode to dummy variables then we wil have 100 - 1 = 99 columns leading to lot of dimension called as curse of dimensionality.\n",
    "\n",
    "so dont apply one hot encoding"
   ]
  },
  {
   "cell_type": "markdown",
   "id": "b4bf0320",
   "metadata": {},
   "source": [
    "Label Encoding :- Applied to Ordinal Categories\n",
    "\n",
    "Education \n",
    "\n",
    "BE         1\n",
    "\n",
    "ME         3\n",
    "\n",
    "PHD        4\n",
    "\n",
    "Stat       2\n",
    "\n",
    "labels having highest importance are given highest value."
   ]
  },
  {
   "cell_type": "markdown",
   "id": "58a8a631",
   "metadata": {},
   "source": [
    "One hot encoding with Multiple categories applied to nominal encoding\n",
    "\n",
    "f1 - > 50 categories.\n",
    "\n",
    "KDD Orange with ensamble technique. Top 10 categories from a feature is repeated more. \n",
    "\n",
    "so will take top 10 categories and create n - 1  ie 9 columns instead of 49 columns.\n"
   ]
  },
  {
   "cell_type": "markdown",
   "id": "c66d5185",
   "metadata": {},
   "source": [
    "Target guided oridnal categories applied for Ordinal categories\n",
    "\n",
    "will take feature f1 with 50 categories with output varibale\n",
    "\n",
    "consider classification problem\n",
    "\n",
    "f1              Output\n",
    "\n",
    "A                  1\n",
    "\n",
    "B                  1\n",
    "\n",
    "C                  0\n",
    "\n",
    "D                  1\n",
    "\n",
    "A                  0\n",
    "\n",
    "B                  0\n",
    "\n",
    "\n",
    "WIll calculate the mean of A same for remaining categories.\n",
    "\n",
    "mean for A means values of A which is 1.\n",
    "\n",
    "A -> 0.73\n",
    "\n",
    "B -> 0.6\n",
    "\n",
    "C -> 0.4\n",
    "\n",
    "Assign these ranks to categories depending on mean."
   ]
  },
  {
   "cell_type": "markdown",
   "id": "25974e2f",
   "metadata": {},
   "source": [
    "Mean Encoding applied to Nominal Categories.\n",
    "\n",
    "f1      o/p         mean\n",
    "\n",
    "A       1           0.73\n",
    "\n",
    "B       0           0.6\n",
    "\n",
    "C       1           0.5\n",
    "\n",
    "D       1           0.4\n",
    "\n",
    "A       0\n",
    "\n",
    "B       1\n",
    "\n",
    "C       1\n",
    "\n",
    "D       0\n",
    "\n",
    "\n",
    "Calculate the mean with respect to categories like A B C D.\n",
    "\n",
    "Here in pincode we have 100 pincode into a city, so instead of creating columns will convert it into int or float values based on our output column.\n",
    "\n",
    "so we calculate the mean for each categorical values, and replace mean with this values."
   ]
  }
 ],
 "metadata": {
  "language_info": {
   "name": "python"
  }
 },
 "nbformat": 4,
 "nbformat_minor": 5
}
