{
 "cells": [
  {
   "cell_type": "markdown",
   "id": "5ad2e8bc",
   "metadata": {},
   "source": [
    "Handling missing values in categorical Variables.\n",
    "\n",
    "\n",
    "\n",
    "F1              F2              F3              O/P\n",
    "\n",
    "MALE            23              24              YES\n",
    "\n",
    "----            24              25              NO\n",
    "\n",
    "FEMALE          25              26              YES\n",
    "\n",
    "\n",
    "1. Delete the rows :- Delete complete row of empty value. Sometimes the record am deleting may be important for classification problem\n",
    "\n",
    "                        if my dataset is small then i can't delete the record.\n",
    "\n",
    "2. Replace with the most Frequent Values :- most frequent occuring categories but can lead unbalanced dataset within categories.\n",
    "\n",
    "3. Apply classification algorithms to predict missing values (KNN) :- f2 f3 and o/p as independent features and f1 as dependent as f1 has missing value.\n",
    "\n",
    "                                                f1 with values will be consider as train dataset and f1 without values will be treated as test dataset.\n",
    "\n",
    "4. Apply unsupervised ML. :- Clustering technique(Kmeans) skip f1 column and take f2 , f3 values start creating 2 clusters (male and female) and\n",
    "\n",
    "                            find out which group the missing values falls in.\n",
    "\n",
    "\n",
    "\n"
   ]
  },
  {
   "cell_type": "markdown",
   "id": "718d19c5",
   "metadata": {},
   "source": []
  }
 ],
 "metadata": {
  "language_info": {
   "name": "python"
  }
 },
 "nbformat": 4,
 "nbformat_minor": 5
}
