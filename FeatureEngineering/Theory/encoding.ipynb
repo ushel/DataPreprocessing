{
 "cells": [
  {
   "cell_type": "markdown",
   "id": "aa96ee5a",
   "metadata": {},
   "source": [
    "Types of Encoding \n",
    "\n",
    "Categorical Variables:- \n",
    "\n",
    "1. Nominal Encoding.\n",
    "\n",
    "2. Ordinal Encoding.\n",
    "\n",
    "1. Nominal :- Features where we dont worry about arrangement of categories. eg - Gender:- Male, Female  state:- Maharashtra, karnataka. \n",
    "\n",
    "DOnt have to worry about ordering or rank of variables.\n",
    "\n",
    "2. Ordinal :- We have to worry about ranks. Predict Salary of person. Degrees: -BE BCOM PHD ME here we will arrange depending upon salary.\n",
    "\n",
    "Rank PHD - 1, ME - 2, BE - 3 BCOM - 4\n",
    "\n"
   ]
  },
  {
   "cell_type": "markdown",
   "id": "8324a5be",
   "metadata": {},
   "source": [
    "Nominal Encoding Categories\n",
    "\n",
    "1. One Hot Encoding\n",
    "\n",
    "2. One Hot encoding with many Categorical variables.\n",
    "\n",
    "3. Mean Encoding\n"
   ]
  },
  {
   "cell_type": "markdown",
   "id": "e39c1ac2",
   "metadata": {},
   "source": [
    "Ordinal Encoding Categories\n",
    "\n",
    "1. Label Encoding.\n",
    "\n",
    "2. Target Guided Ordinal Encoding."
   ]
  },
  {
   "cell_type": "markdown",
   "id": "5186b179",
   "metadata": {},
   "source": [
    "1. One Hot Encoding :- Applied to Nominal Categorical Variables.\n",
    "\n",
    "Country :- Germany , France , Spain.   \n",
    "\n",
    "3 Columns created\n",
    "\n",
    "                Germany     France      Spain\n",
    "    \n",
    "    Germany       1            0           0\n",
    "\n",
    "    France        0            1           0\n",
    "\n",
    "    Spain         0            0           1\n",
    "\n",
    "\n",
    "\n",
    "Dummy variable trap :- The above columns are called as dummy variables. \n",
    "\n",
    "Here germany 1 means  we are considering germany, france 1 means we are considering france\n",
    "\n",
    "if both germany and france 0 means we are talking about spain, hence we can delete spain column. This is called as dummy variabe trap\n",
    "\n",
    "so consider I have 5 categories then total number of columns will be 5 - 1 = 4. n columns then total columns avoiding dummy variable trap\n",
    "\n",
    "will be n - 1.\n",
    "\n",
    "\n",
    "Consider Pincode columns.\n",
    "\n",
    "suppose i have 560011 , 560012, 560013, 560014, ........, 5600100\n",
    "\n",
    "so convert this pincode to dummy variables then we wil have 100 - 1 = 99 columns leading to lot of dimension called as curse of dimensionality.\n",
    "\n",
    "so dont apply one hot encoding"
   ]
  },
  {
   "cell_type": "markdown",
   "id": "b4bf0320",
   "metadata": {},
   "source": [
    "Label Encoding :- Applied to Ordinal Categories\n",
    "\n",
    "Education \n",
    "\n",
    "BE         1\n",
    "\n",
    "ME         3\n",
    "\n",
    "PHD        4\n",
    "\n",
    "Stat       2\n",
    "\n",
    "labels having highest importance are given highest value."
   ]
  },
  {
   "cell_type": "markdown",
   "id": "58a8a631",
   "metadata": {},
   "source": [
    "One hot encoding with Multiple categories applied to nominal encoding\n",
    "\n",
    "f1 - > 50 categories.\n",
    "\n",
    "KDD Orange with ensamble technique. Top 10 categories from a feature is repeated more. \n",
    "\n",
    "so will take top 10 categories and create n - 1  ie 9 columns instead of 49 columns.\n"
   ]
  },
  {
   "cell_type": "markdown",
   "id": "c66d5185",
   "metadata": {},
   "source": [
    "Target guided oridnal categories applied for Ordinal categories\n",
    "\n",
    "will take feature f1 with 50 categories with output varibale\n",
    "\n",
    "consider classification problem\n",
    "\n",
    "f1              Output\n",
    "\n",
    "A                  1\n",
    "\n",
    "B                  1\n",
    "\n",
    "C                  0\n",
    "\n",
    "D                  1\n",
    "\n",
    "A                  0\n",
    "\n",
    "B                  0\n",
    "\n",
    "\n",
    "WIll calculate the mean of A same for remaining categories.\n",
    "\n",
    "mean for A means values of A which is 1.\n",
    "\n",
    "A -> 0.73\n",
    "\n",
    "B -> 0.6\n",
    "\n",
    "C -> 0.4\n",
    "\n",
    "Assign these ranks to categories depending on mean."
   ]
  },
  {
   "cell_type": "markdown",
   "id": "25974e2f",
   "metadata": {},
   "source": [
    "Mean Encoding applied to Nominal Categories.\n",
    "\n",
    "f1      o/p         mean\n",
    "\n",
    "A       1           0.73\n",
    "\n",
    "B       0           0.6\n",
    "\n",
    "C       1           0.5\n",
    "\n",
    "D       1           0.4\n",
    "\n",
    "A       0\n",
    "\n",
    "B       1\n",
    "\n",
    "C       1\n",
    "\n",
    "D       0\n",
    "\n",
    "\n",
    "Calculate the mean with respect to categories like A B C D.\n",
    "\n",
    "Here in pincode we have 100 pincode into a city, so instead of creating columns will convert it into int or float values based on our output column.\n",
    "\n",
    "so we calculate the mean for each categorical values, and replace mean with this values."
   ]
  },
  {
   "cell_type": "markdown",
   "id": "ef53ed91",
   "metadata": {},
   "source": [
    "Count of Frequency encoding :- \n",
    "\n",
    "High Cardinality :- Applied to categorical features where you have higher number of variables/cayegories ie cardinality\n",
    "\n",
    "Count of Frequency encoding, here we replace each label of the categorical variable by count, this is the amount of time each label appears\n",
    "\n",
    "in the dataset or the frequency this is the percentage of observations within that category."
   ]
  },
  {
   "cell_type": "code",
   "execution_count": 15,
   "id": "6cffc6f7",
   "metadata": {},
   "outputs": [],
   "source": [
    "import pandas as pd\n",
    "import numpy as np\n",
    "\n",
    "df = pd.read_csv(\"/home/utkarsh/DataPreprocessing/FeatureEngineering/Data/mercedesbenz.csv\",usecols=['X1','X2'])"
   ]
  },
  {
   "cell_type": "code",
   "execution_count": 16,
   "id": "2252ba61",
   "metadata": {},
   "outputs": [
    {
     "data": {
      "text/html": [
       "<div>\n",
       "<style scoped>\n",
       "    .dataframe tbody tr th:only-of-type {\n",
       "        vertical-align: middle;\n",
       "    }\n",
       "\n",
       "    .dataframe tbody tr th {\n",
       "        vertical-align: top;\n",
       "    }\n",
       "\n",
       "    .dataframe thead th {\n",
       "        text-align: right;\n",
       "    }\n",
       "</style>\n",
       "<table border=\"1\" class=\"dataframe\">\n",
       "  <thead>\n",
       "    <tr style=\"text-align: right;\">\n",
       "      <th></th>\n",
       "      <th>X1</th>\n",
       "      <th>X2</th>\n",
       "    </tr>\n",
       "  </thead>\n",
       "  <tbody>\n",
       "    <tr>\n",
       "      <th>0</th>\n",
       "      <td>v</td>\n",
       "      <td>at</td>\n",
       "    </tr>\n",
       "    <tr>\n",
       "      <th>1</th>\n",
       "      <td>t</td>\n",
       "      <td>av</td>\n",
       "    </tr>\n",
       "    <tr>\n",
       "      <th>2</th>\n",
       "      <td>w</td>\n",
       "      <td>n</td>\n",
       "    </tr>\n",
       "    <tr>\n",
       "      <th>3</th>\n",
       "      <td>t</td>\n",
       "      <td>n</td>\n",
       "    </tr>\n",
       "    <tr>\n",
       "      <th>4</th>\n",
       "      <td>v</td>\n",
       "      <td>n</td>\n",
       "    </tr>\n",
       "  </tbody>\n",
       "</table>\n",
       "</div>"
      ],
      "text/plain": [
       "  X1  X2\n",
       "0  v  at\n",
       "1  t  av\n",
       "2  w   n\n",
       "3  t   n\n",
       "4  v   n"
      ]
     },
     "execution_count": 16,
     "metadata": {},
     "output_type": "execute_result"
    }
   ],
   "source": [
    "df.head()"
   ]
  },
  {
   "cell_type": "code",
   "execution_count": 21,
   "id": "269917bb",
   "metadata": {},
   "outputs": [
    {
     "data": {
      "text/plain": [
       "(4209, 2)"
      ]
     },
     "execution_count": 21,
     "metadata": {},
     "output_type": "execute_result"
    }
   ],
   "source": [
    "df.shape"
   ]
  },
  {
   "cell_type": "code",
   "execution_count": 22,
   "id": "980774b0",
   "metadata": {},
   "outputs": [
    {
     "data": {
      "text/plain": [
       "(4209, 71)"
      ]
     },
     "execution_count": 22,
     "metadata": {},
     "output_type": "execute_result"
    }
   ],
   "source": [
    "#one hot encoding\n",
    "\n",
    "pd.get_dummies(df).shape"
   ]
  },
  {
   "cell_type": "code",
   "execution_count": 24,
   "id": "7cab332a",
   "metadata": {},
   "outputs": [
    {
     "data": {
      "text/plain": [
       "27"
      ]
     },
     "execution_count": 24,
     "metadata": {},
     "output_type": "execute_result"
    }
   ],
   "source": [
    "len(df['X1'].unique())"
   ]
  },
  {
   "cell_type": "code",
   "execution_count": 25,
   "id": "3667ef2f",
   "metadata": {},
   "outputs": [
    {
     "data": {
      "text/plain": [
       "44"
      ]
     },
     "execution_count": 25,
     "metadata": {},
     "output_type": "execute_result"
    }
   ],
   "source": [
    "len(df['X2'].unique())"
   ]
  },
  {
   "cell_type": "code",
   "execution_count": 26,
   "id": "c9aba54b",
   "metadata": {},
   "outputs": [
    {
     "name": "stdout",
     "output_type": "stream",
     "text": [
      "X1  : 27 labels\n",
      "X2  : 44 labels\n"
     ]
    }
   ],
   "source": [
    "for col in df.columns[0:]:\n",
    "    print(col, \" :\",len(df[col].unique()),'labels')"
   ]
  },
  {
   "cell_type": "code",
   "execution_count": 32,
   "id": "8953058d",
   "metadata": {},
   "outputs": [],
   "source": [
    "df_freq_map = df['X2'].value_counts().to_dict()"
   ]
  },
  {
   "cell_type": "code",
   "execution_count": 33,
   "id": "99d6ba90",
   "metadata": {},
   "outputs": [
    {
     "data": {
      "text/plain": [
       "{'as': 1659,\n",
       " 'ae': 496,\n",
       " 'ai': 415,\n",
       " 'm': 367,\n",
       " 'ak': 265,\n",
       " 'r': 153,\n",
       " 'n': 137,\n",
       " 's': 94,\n",
       " 'f': 87,\n",
       " 'e': 81,\n",
       " 'aq': 63,\n",
       " 'ay': 54,\n",
       " 'a': 47,\n",
       " 't': 29,\n",
       " 'k': 25,\n",
       " 'i': 25,\n",
       " 'b': 21,\n",
       " 'ao': 20,\n",
       " 'z': 19,\n",
       " 'ag': 19,\n",
       " 'd': 18,\n",
       " 'ac': 13,\n",
       " 'g': 12,\n",
       " 'ap': 11,\n",
       " 'y': 11,\n",
       " 'x': 10,\n",
       " 'aw': 8,\n",
       " 'at': 6,\n",
       " 'h': 6,\n",
       " 'q': 5,\n",
       " 'al': 5,\n",
       " 'an': 5,\n",
       " 'av': 4,\n",
       " 'p': 4,\n",
       " 'ah': 4,\n",
       " 'au': 3,\n",
       " 'am': 1,\n",
       " 'j': 1,\n",
       " 'af': 1,\n",
       " 'l': 1,\n",
       " 'aa': 1,\n",
       " 'c': 1,\n",
       " 'o': 1,\n",
       " 'ar': 1}"
      ]
     },
     "execution_count": 33,
     "metadata": {},
     "output_type": "execute_result"
    }
   ],
   "source": [
    "freq"
   ]
  },
  {
   "cell_type": "code",
   "execution_count": 34,
   "id": "ebe851f8",
   "metadata": {},
   "outputs": [],
   "source": [
    "df.X2 = df.X2.map(df_freq_map)"
   ]
  },
  {
   "cell_type": "code",
   "execution_count": 38,
   "id": "63102c29",
   "metadata": {},
   "outputs": [
    {
     "data": {
      "text/html": [
       "<div>\n",
       "<style scoped>\n",
       "    .dataframe tbody tr th:only-of-type {\n",
       "        vertical-align: middle;\n",
       "    }\n",
       "\n",
       "    .dataframe tbody tr th {\n",
       "        vertical-align: top;\n",
       "    }\n",
       "\n",
       "    .dataframe thead th {\n",
       "        text-align: right;\n",
       "    }\n",
       "</style>\n",
       "<table border=\"1\" class=\"dataframe\">\n",
       "  <thead>\n",
       "    <tr style=\"text-align: right;\">\n",
       "      <th></th>\n",
       "      <th>X1</th>\n",
       "      <th>X2</th>\n",
       "    </tr>\n",
       "  </thead>\n",
       "  <tbody>\n",
       "    <tr>\n",
       "      <th>0</th>\n",
       "      <td>v</td>\n",
       "      <td>6</td>\n",
       "    </tr>\n",
       "    <tr>\n",
       "      <th>1</th>\n",
       "      <td>t</td>\n",
       "      <td>4</td>\n",
       "    </tr>\n",
       "    <tr>\n",
       "      <th>2</th>\n",
       "      <td>w</td>\n",
       "      <td>137</td>\n",
       "    </tr>\n",
       "    <tr>\n",
       "      <th>3</th>\n",
       "      <td>t</td>\n",
       "      <td>137</td>\n",
       "    </tr>\n",
       "    <tr>\n",
       "      <th>4</th>\n",
       "      <td>v</td>\n",
       "      <td>137</td>\n",
       "    </tr>\n",
       "    <tr>\n",
       "      <th>5</th>\n",
       "      <td>b</td>\n",
       "      <td>81</td>\n",
       "    </tr>\n",
       "    <tr>\n",
       "      <th>6</th>\n",
       "      <td>r</td>\n",
       "      <td>81</td>\n",
       "    </tr>\n",
       "    <tr>\n",
       "      <th>7</th>\n",
       "      <td>l</td>\n",
       "      <td>1659</td>\n",
       "    </tr>\n",
       "    <tr>\n",
       "      <th>8</th>\n",
       "      <td>s</td>\n",
       "      <td>1659</td>\n",
       "    </tr>\n",
       "    <tr>\n",
       "      <th>9</th>\n",
       "      <td>b</td>\n",
       "      <td>63</td>\n",
       "    </tr>\n",
       "  </tbody>\n",
       "</table>\n",
       "</div>"
      ],
      "text/plain": [
       "  X1    X2\n",
       "0  v     6\n",
       "1  t     4\n",
       "2  w   137\n",
       "3  t   137\n",
       "4  v   137\n",
       "5  b    81\n",
       "6  r    81\n",
       "7  l  1659\n",
       "8  s  1659\n",
       "9  b    63"
      ]
     },
     "execution_count": 38,
     "metadata": {},
     "output_type": "execute_result"
    }
   ],
   "source": [
    "df.head(10)"
   ]
  },
  {
   "cell_type": "code",
   "execution_count": 39,
   "id": "3a77859b",
   "metadata": {},
   "outputs": [],
   "source": [
    "df_freq_map_x1 = df.X1.value_counts().to_dict()"
   ]
  },
  {
   "cell_type": "code",
   "execution_count": 40,
   "id": "e8be7285",
   "metadata": {},
   "outputs": [
    {
     "data": {
      "text/plain": [
       "{'aa': 833,\n",
       " 's': 598,\n",
       " 'b': 592,\n",
       " 'l': 590,\n",
       " 'v': 408,\n",
       " 'r': 251,\n",
       " 'i': 203,\n",
       " 'a': 143,\n",
       " 'c': 121,\n",
       " 'o': 82,\n",
       " 'w': 52,\n",
       " 'z': 46,\n",
       " 'u': 37,\n",
       " 'e': 33,\n",
       " 'm': 32,\n",
       " 't': 31,\n",
       " 'h': 29,\n",
       " 'y': 23,\n",
       " 'f': 23,\n",
       " 'j': 22,\n",
       " 'n': 19,\n",
       " 'k': 17,\n",
       " 'p': 9,\n",
       " 'g': 6,\n",
       " 'd': 3,\n",
       " 'q': 3,\n",
       " 'ab': 3}"
      ]
     },
     "execution_count": 40,
     "metadata": {},
     "output_type": "execute_result"
    }
   ],
   "source": [
    "df_freq_map_x1"
   ]
  },
  {
   "cell_type": "code",
   "execution_count": 41,
   "id": "a1f16243",
   "metadata": {},
   "outputs": [],
   "source": [
    "df.X1 = df.X1.map(df_freq_map_x1)"
   ]
  },
  {
   "cell_type": "code",
   "execution_count": 42,
   "id": "defd66bf",
   "metadata": {},
   "outputs": [
    {
     "data": {
      "text/html": [
       "<div>\n",
       "<style scoped>\n",
       "    .dataframe tbody tr th:only-of-type {\n",
       "        vertical-align: middle;\n",
       "    }\n",
       "\n",
       "    .dataframe tbody tr th {\n",
       "        vertical-align: top;\n",
       "    }\n",
       "\n",
       "    .dataframe thead th {\n",
       "        text-align: right;\n",
       "    }\n",
       "</style>\n",
       "<table border=\"1\" class=\"dataframe\">\n",
       "  <thead>\n",
       "    <tr style=\"text-align: right;\">\n",
       "      <th></th>\n",
       "      <th>X1</th>\n",
       "      <th>X2</th>\n",
       "    </tr>\n",
       "  </thead>\n",
       "  <tbody>\n",
       "    <tr>\n",
       "      <th>0</th>\n",
       "      <td>408</td>\n",
       "      <td>6</td>\n",
       "    </tr>\n",
       "    <tr>\n",
       "      <th>1</th>\n",
       "      <td>31</td>\n",
       "      <td>4</td>\n",
       "    </tr>\n",
       "    <tr>\n",
       "      <th>2</th>\n",
       "      <td>52</td>\n",
       "      <td>137</td>\n",
       "    </tr>\n",
       "    <tr>\n",
       "      <th>3</th>\n",
       "      <td>31</td>\n",
       "      <td>137</td>\n",
       "    </tr>\n",
       "    <tr>\n",
       "      <th>4</th>\n",
       "      <td>408</td>\n",
       "      <td>137</td>\n",
       "    </tr>\n",
       "    <tr>\n",
       "      <th>5</th>\n",
       "      <td>592</td>\n",
       "      <td>81</td>\n",
       "    </tr>\n",
       "    <tr>\n",
       "      <th>6</th>\n",
       "      <td>251</td>\n",
       "      <td>81</td>\n",
       "    </tr>\n",
       "    <tr>\n",
       "      <th>7</th>\n",
       "      <td>590</td>\n",
       "      <td>1659</td>\n",
       "    </tr>\n",
       "    <tr>\n",
       "      <th>8</th>\n",
       "      <td>598</td>\n",
       "      <td>1659</td>\n",
       "    </tr>\n",
       "    <tr>\n",
       "      <th>9</th>\n",
       "      <td>592</td>\n",
       "      <td>63</td>\n",
       "    </tr>\n",
       "    <tr>\n",
       "      <th>10</th>\n",
       "      <td>251</td>\n",
       "      <td>153</td>\n",
       "    </tr>\n",
       "    <tr>\n",
       "      <th>11</th>\n",
       "      <td>251</td>\n",
       "      <td>81</td>\n",
       "    </tr>\n",
       "    <tr>\n",
       "      <th>12</th>\n",
       "      <td>592</td>\n",
       "      <td>415</td>\n",
       "    </tr>\n",
       "    <tr>\n",
       "      <th>13</th>\n",
       "      <td>251</td>\n",
       "      <td>81</td>\n",
       "    </tr>\n",
       "    <tr>\n",
       "      <th>14</th>\n",
       "      <td>598</td>\n",
       "      <td>1659</td>\n",
       "    </tr>\n",
       "    <tr>\n",
       "      <th>15</th>\n",
       "      <td>590</td>\n",
       "      <td>265</td>\n",
       "    </tr>\n",
       "    <tr>\n",
       "      <th>16</th>\n",
       "      <td>251</td>\n",
       "      <td>81</td>\n",
       "    </tr>\n",
       "    <tr>\n",
       "      <th>17</th>\n",
       "      <td>833</td>\n",
       "      <td>1659</td>\n",
       "    </tr>\n",
       "    <tr>\n",
       "      <th>18</th>\n",
       "      <td>121</td>\n",
       "      <td>367</td>\n",
       "    </tr>\n",
       "    <tr>\n",
       "      <th>19</th>\n",
       "      <td>143</td>\n",
       "      <td>265</td>\n",
       "    </tr>\n",
       "  </tbody>\n",
       "</table>\n",
       "</div>"
      ],
      "text/plain": [
       "     X1    X2\n",
       "0   408     6\n",
       "1    31     4\n",
       "2    52   137\n",
       "3    31   137\n",
       "4   408   137\n",
       "5   592    81\n",
       "6   251    81\n",
       "7   590  1659\n",
       "8   598  1659\n",
       "9   592    63\n",
       "10  251   153\n",
       "11  251    81\n",
       "12  592   415\n",
       "13  251    81\n",
       "14  598  1659\n",
       "15  590   265\n",
       "16  251    81\n",
       "17  833  1659\n",
       "18  121   367\n",
       "19  143   265"
      ]
     },
     "execution_count": 42,
     "metadata": {},
     "output_type": "execute_result"
    }
   ],
   "source": [
    "df.head(20)"
   ]
  },
  {
   "cell_type": "markdown",
   "id": "b988f6bd",
   "metadata": {},
   "source": [
    "Advantages:\n",
    "\n",
    "1. It is very simple to implement\n",
    "\n",
    "2. Does not increase the feature dimensional space\n",
    "\n",
    "\n",
    "Disadvantages:\n",
    "\n",
    "1. If some of the labels have the same count, then they will be replaced with the same count and they will loose some valuable information."
   ]
  },
  {
   "cell_type": "code",
   "execution_count": null,
   "id": "4a5f0f44",
   "metadata": {},
   "outputs": [],
   "source": []
  }
 ],
 "metadata": {
  "kernelspec": {
   "display_name": "enve",
   "language": "python",
   "name": "python3"
  },
  "language_info": {
   "codemirror_mode": {
    "name": "ipython",
    "version": 3
   },
   "file_extension": ".py",
   "mimetype": "text/x-python",
   "name": "python",
   "nbconvert_exporter": "python",
   "pygments_lexer": "ipython3",
   "version": "3.12.0"
  }
 },
 "nbformat": 4,
 "nbformat_minor": 5
}
